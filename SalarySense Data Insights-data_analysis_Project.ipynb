{
 "cells": [
  {
   "cell_type": "code",
   "execution_count": 1,
   "id": "cf7fe14c-3d07-407a-9073-e391fe6a2d8e",
   "metadata": {},
   "outputs": [
    {
     "name": "stdout",
     "output_type": "stream",
     "text": [
      "Note: you may need to restart the kernel to use updated packages.Requirement already satisfied: pandas in c:\\users\\punit\\appdata\\local\\programs\\python\\python311\\lib\\site-packages (2.2.1)\n",
      "Requirement already satisfied: numpy<2,>=1.23.2 in c:\\users\\punit\\appdata\\local\\programs\\python\\python311\\lib\\site-packages (from pandas) (1.26.4)\n",
      "Requirement already satisfied: python-dateutil>=2.8.2 in c:\\users\\punit\\appdata\\local\\programs\\python\\python311\\lib\\site-packages (from pandas) (2.8.2)\n",
      "Requirement already satisfied: pytz>=2020.1 in c:\\users\\punit\\appdata\\local\\programs\\python\\python311\\lib\\site-packages (from pandas) (2024.1)\n",
      "Requirement already satisfied: tzdata>=2022.7 in c:\\users\\punit\\appdata\\local\\programs\\python\\python311\\lib\\site-packages (from pandas) (2024.1)\n",
      "Requirement already satisfied: six>=1.5 in c:\\users\\punit\\appdata\\local\\programs\\python\\python311\\lib\\site-packages (from python-dateutil>=2.8.2->pandas) (1.16.0)\n",
      "\n"
     ]
    },
    {
     "name": "stderr",
     "output_type": "stream",
     "text": [
      "\n",
      "[notice] A new release of pip is available: 23.3.2 -> 24.0\n",
      "[notice] To update, run: python.exe -m pip install --upgrade pip\n"
     ]
    }
   ],
   "source": [
    "pip install pandas"
   ]
  },
  {
   "cell_type": "code",
   "execution_count": 3,
   "id": "7209a073-378c-4049-802b-387009aadf02",
   "metadata": {},
   "outputs": [
    {
     "name": "stdout",
     "output_type": "stream",
     "text": [
      "Requirement already satisfied: pip in c:\\users\\punit\\appdata\\local\\programs\\python\\python311\\lib\\site-packages (23.3.2)\n",
      "Collecting pip\n",
      "  Downloading pip-24.0-py3-none-any.whl.metadata (3.6 kB)\n",
      "Downloading pip-24.0-py3-none-any.whl (2.1 MB)\n",
      "   ---------------------------------------- 0.0/2.1 MB ? eta -:--:--\n",
      "   --- ------------------------------------ 0.2/2.1 MB 5.0 MB/s eta 0:00:01\n",
      "   --- ------------------------------------ 0.2/2.1 MB 4.1 MB/s eta 0:00:01\n",
      "   ------- -------------------------------- 0.4/2.1 MB 3.5 MB/s eta 0:00:01\n",
      "   ---------------- ----------------------- 0.9/2.1 MB 5.5 MB/s eta 0:00:01\n",
      "   -------------------- ------------------- 1.1/2.1 MB 5.2 MB/s eta 0:00:01\n",
      "   ------------------------- -------------- 1.4/2.1 MB 5.4 MB/s eta 0:00:01\n",
      "   ----------------------------- ---------- 1.5/2.1 MB 5.1 MB/s eta 0:00:01\n",
      "   --------------------------------- ------ 1.8/2.1 MB 5.0 MB/s eta 0:00:01\n",
      "   --------------------------------- ------ 1.8/2.1 MB 5.0 MB/s eta 0:00:01\n",
      "   ---------------------------------------  2.1/2.1 MB 4.6 MB/s eta 0:00:01\n",
      "   ---------------------------------------- 2.1/2.1 MB 4.6 MB/s eta 0:00:00\n",
      "Installing collected packages: pip\n",
      "  Attempting uninstall: pip\n",
      "    Found existing installation: pip 23.3.2\n",
      "    Uninstalling pip-23.3.2:\n",
      "      Successfully uninstalled pip-23.3.2\n",
      "Successfully installed pip-24.0\n",
      "Note: you may need to restart the kernel to use updated packages.\n"
     ]
    }
   ],
   "source": [
    "pip install --upgrade pip"
   ]
  },
  {
   "cell_type": "code",
   "execution_count": 7,
   "id": "1b9e8c8e-6355-4542-9cdb-7900e761842f",
   "metadata": {},
   "outputs": [
    {
     "name": "stdout",
     "output_type": "stream",
     "text": [
      "2.2.1\n"
     ]
    }
   ],
   "source": [
    "import pandas as pd\n",
    "print(pd.__version__)"
   ]
  },
  {
   "cell_type": "code",
   "execution_count": 13,
   "id": "7d38799c-49c0-4bf1-b2c6-16527d4c4060",
   "metadata": {},
   "outputs": [],
   "source": [
    "data=pd.read_csv(\"C:/Users/punit/Downloads/ds_salaries.csv\")"
   ]
  },
  {
   "cell_type": "code",
   "execution_count": 15,
   "id": "91c86ca8-6915-44b7-b971-978eaa12c303",
   "metadata": {},
   "outputs": [
    {
     "data": {
      "text/html": [
       "<div>\n",
       "<style scoped>\n",
       "    .dataframe tbody tr th:only-of-type {\n",
       "        vertical-align: middle;\n",
       "    }\n",
       "\n",
       "    .dataframe tbody tr th {\n",
       "        vertical-align: top;\n",
       "    }\n",
       "\n",
       "    .dataframe thead th {\n",
       "        text-align: right;\n",
       "    }\n",
       "</style>\n",
       "<table border=\"1\" class=\"dataframe\">\n",
       "  <thead>\n",
       "    <tr style=\"text-align: right;\">\n",
       "      <th></th>\n",
       "      <th>id</th>\n",
       "      <th>work_year</th>\n",
       "      <th>experience_level</th>\n",
       "      <th>employment_type</th>\n",
       "      <th>job_title</th>\n",
       "      <th>salary</th>\n",
       "      <th>salary_currency</th>\n",
       "      <th>salary_in_usd</th>\n",
       "      <th>employee_residence</th>\n",
       "      <th>remote_ratio</th>\n",
       "      <th>company_location</th>\n",
       "      <th>company_size</th>\n",
       "    </tr>\n",
       "  </thead>\n",
       "  <tbody>\n",
       "    <tr>\n",
       "      <th>0</th>\n",
       "      <td>0</td>\n",
       "      <td>2020</td>\n",
       "      <td>MI</td>\n",
       "      <td>FT</td>\n",
       "      <td>Data Scientist</td>\n",
       "      <td>70000</td>\n",
       "      <td>EUR</td>\n",
       "      <td>79833</td>\n",
       "      <td>DE</td>\n",
       "      <td>0</td>\n",
       "      <td>DE</td>\n",
       "      <td>L</td>\n",
       "    </tr>\n",
       "    <tr>\n",
       "      <th>1</th>\n",
       "      <td>1</td>\n",
       "      <td>2020</td>\n",
       "      <td>SE</td>\n",
       "      <td>FT</td>\n",
       "      <td>Machine Learning Scientist</td>\n",
       "      <td>260000</td>\n",
       "      <td>USD</td>\n",
       "      <td>260000</td>\n",
       "      <td>JP</td>\n",
       "      <td>0</td>\n",
       "      <td>JP</td>\n",
       "      <td>S</td>\n",
       "    </tr>\n",
       "    <tr>\n",
       "      <th>2</th>\n",
       "      <td>2</td>\n",
       "      <td>2020</td>\n",
       "      <td>SE</td>\n",
       "      <td>FT</td>\n",
       "      <td>Big Data Engineer</td>\n",
       "      <td>85000</td>\n",
       "      <td>GBP</td>\n",
       "      <td>109024</td>\n",
       "      <td>GB</td>\n",
       "      <td>50</td>\n",
       "      <td>GB</td>\n",
       "      <td>M</td>\n",
       "    </tr>\n",
       "    <tr>\n",
       "      <th>3</th>\n",
       "      <td>3</td>\n",
       "      <td>2020</td>\n",
       "      <td>MI</td>\n",
       "      <td>FT</td>\n",
       "      <td>Product Data Analyst</td>\n",
       "      <td>20000</td>\n",
       "      <td>USD</td>\n",
       "      <td>20000</td>\n",
       "      <td>HN</td>\n",
       "      <td>0</td>\n",
       "      <td>HN</td>\n",
       "      <td>S</td>\n",
       "    </tr>\n",
       "    <tr>\n",
       "      <th>4</th>\n",
       "      <td>4</td>\n",
       "      <td>2020</td>\n",
       "      <td>SE</td>\n",
       "      <td>FT</td>\n",
       "      <td>Machine Learning Engineer</td>\n",
       "      <td>150000</td>\n",
       "      <td>USD</td>\n",
       "      <td>150000</td>\n",
       "      <td>US</td>\n",
       "      <td>50</td>\n",
       "      <td>US</td>\n",
       "      <td>L</td>\n",
       "    </tr>\n",
       "    <tr>\n",
       "      <th>...</th>\n",
       "      <td>...</td>\n",
       "      <td>...</td>\n",
       "      <td>...</td>\n",
       "      <td>...</td>\n",
       "      <td>...</td>\n",
       "      <td>...</td>\n",
       "      <td>...</td>\n",
       "      <td>...</td>\n",
       "      <td>...</td>\n",
       "      <td>...</td>\n",
       "      <td>...</td>\n",
       "      <td>...</td>\n",
       "    </tr>\n",
       "    <tr>\n",
       "      <th>245</th>\n",
       "      <td>245</td>\n",
       "      <td>2021</td>\n",
       "      <td>MI</td>\n",
       "      <td>FT</td>\n",
       "      <td>Data Engineer</td>\n",
       "      <td>52500</td>\n",
       "      <td>GBP</td>\n",
       "      <td>72212</td>\n",
       "      <td>GB</td>\n",
       "      <td>50</td>\n",
       "      <td>GB</td>\n",
       "      <td>L</td>\n",
       "    </tr>\n",
       "    <tr>\n",
       "      <th>246</th>\n",
       "      <td>246</td>\n",
       "      <td>2021</td>\n",
       "      <td>EN</td>\n",
       "      <td>FT</td>\n",
       "      <td>Data Scientist</td>\n",
       "      <td>31000</td>\n",
       "      <td>EUR</td>\n",
       "      <td>36643</td>\n",
       "      <td>FR</td>\n",
       "      <td>50</td>\n",
       "      <td>FR</td>\n",
       "      <td>L</td>\n",
       "    </tr>\n",
       "    <tr>\n",
       "      <th>247</th>\n",
       "      <td>247</td>\n",
       "      <td>2021</td>\n",
       "      <td>MI</td>\n",
       "      <td>FT</td>\n",
       "      <td>Data Engineer</td>\n",
       "      <td>108000</td>\n",
       "      <td>TRY</td>\n",
       "      <td>12103</td>\n",
       "      <td>TR</td>\n",
       "      <td>0</td>\n",
       "      <td>TR</td>\n",
       "      <td>M</td>\n",
       "    </tr>\n",
       "    <tr>\n",
       "      <th>248</th>\n",
       "      <td>248</td>\n",
       "      <td>2021</td>\n",
       "      <td>SE</td>\n",
       "      <td>FT</td>\n",
       "      <td>Data Engineer</td>\n",
       "      <td>70000</td>\n",
       "      <td>GBP</td>\n",
       "      <td>96282</td>\n",
       "      <td>GB</td>\n",
       "      <td>50</td>\n",
       "      <td>GB</td>\n",
       "      <td>L</td>\n",
       "    </tr>\n",
       "    <tr>\n",
       "      <th>249</th>\n",
       "      <td>249</td>\n",
       "      <td>2021</td>\n",
       "      <td>SE</td>\n",
       "      <td>FT</td>\n",
       "      <td>Principal Data Analyst</td>\n",
       "      <td>170000</td>\n",
       "      <td>USD</td>\n",
       "      <td>170000</td>\n",
       "      <td>US</td>\n",
       "      <td>100</td>\n",
       "      <td>US</td>\n",
       "      <td>M</td>\n",
       "    </tr>\n",
       "  </tbody>\n",
       "</table>\n",
       "<p>250 rows × 12 columns</p>\n",
       "</div>"
      ],
      "text/plain": [
       "      id  work_year experience_level employment_type  \\\n",
       "0      0       2020               MI              FT   \n",
       "1      1       2020               SE              FT   \n",
       "2      2       2020               SE              FT   \n",
       "3      3       2020               MI              FT   \n",
       "4      4       2020               SE              FT   \n",
       "..   ...        ...              ...             ...   \n",
       "245  245       2021               MI              FT   \n",
       "246  246       2021               EN              FT   \n",
       "247  247       2021               MI              FT   \n",
       "248  248       2021               SE              FT   \n",
       "249  249       2021               SE              FT   \n",
       "\n",
       "                      job_title  salary salary_currency  salary_in_usd  \\\n",
       "0                Data Scientist   70000             EUR          79833   \n",
       "1    Machine Learning Scientist  260000             USD         260000   \n",
       "2             Big Data Engineer   85000             GBP         109024   \n",
       "3          Product Data Analyst   20000             USD          20000   \n",
       "4     Machine Learning Engineer  150000             USD         150000   \n",
       "..                          ...     ...             ...            ...   \n",
       "245               Data Engineer   52500             GBP          72212   \n",
       "246              Data Scientist   31000             EUR          36643   \n",
       "247               Data Engineer  108000             TRY          12103   \n",
       "248               Data Engineer   70000             GBP          96282   \n",
       "249      Principal Data Analyst  170000             USD         170000   \n",
       "\n",
       "    employee_residence  remote_ratio company_location company_size  \n",
       "0                   DE             0               DE            L  \n",
       "1                   JP             0               JP            S  \n",
       "2                   GB            50               GB            M  \n",
       "3                   HN             0               HN            S  \n",
       "4                   US            50               US            L  \n",
       "..                 ...           ...              ...          ...  \n",
       "245                 GB            50               GB            L  \n",
       "246                 FR            50               FR            L  \n",
       "247                 TR             0               TR            M  \n",
       "248                 GB            50               GB            L  \n",
       "249                 US           100               US            M  \n",
       "\n",
       "[250 rows x 12 columns]"
      ]
     },
     "execution_count": 15,
     "metadata": {},
     "output_type": "execute_result"
    }
   ],
   "source": [
    "data.head(250)"
   ]
  },
  {
   "cell_type": "code",
   "execution_count": 16,
   "id": "0eaf4cac-5c39-4734-abc2-4446fdc4766b",
   "metadata": {},
   "outputs": [
    {
     "data": {
      "text/plain": [
       "(607, 12)"
      ]
     },
     "execution_count": 16,
     "metadata": {},
     "output_type": "execute_result"
    }
   ],
   "source": [
    "data.shape"
   ]
  },
  {
   "cell_type": "code",
   "execution_count": 17,
   "id": "dfe328b6-560f-4e33-91c5-9c81ebb63bb5",
   "metadata": {},
   "outputs": [
    {
     "data": {
      "text/plain": [
       "Index(['id', 'work_year', 'experience_level', 'employment_type', 'job_title',\n",
       "       'salary', 'salary_currency', 'salary_in_usd', 'employee_residence',\n",
       "       'remote_ratio', 'company_location', 'company_size'],\n",
       "      dtype='object')"
      ]
     },
     "execution_count": 17,
     "metadata": {},
     "output_type": "execute_result"
    }
   ],
   "source": [
    "data.columns"
   ]
  },
  {
   "cell_type": "code",
   "execution_count": 19,
   "id": "d590847f-4019-4083-aba8-8ba38e901c3d",
   "metadata": {},
   "outputs": [
    {
     "data": {
      "text/plain": [
       "<bound method DataFrame.info of       id  work_year experience_level employment_type  \\\n",
       "0      0       2020               MI              FT   \n",
       "1      1       2020               SE              FT   \n",
       "2      2       2020               SE              FT   \n",
       "3      3       2020               MI              FT   \n",
       "4      4       2020               SE              FT   \n",
       "..   ...        ...              ...             ...   \n",
       "602  602       2022               SE              FT   \n",
       "603  603       2022               SE              FT   \n",
       "604  604       2022               SE              FT   \n",
       "605  605       2022               SE              FT   \n",
       "606  606       2022               MI              FT   \n",
       "\n",
       "                      job_title  salary salary_currency  salary_in_usd  \\\n",
       "0                Data Scientist   70000             EUR          79833   \n",
       "1    Machine Learning Scientist  260000             USD         260000   \n",
       "2             Big Data Engineer   85000             GBP         109024   \n",
       "3          Product Data Analyst   20000             USD          20000   \n",
       "4     Machine Learning Engineer  150000             USD         150000   \n",
       "..                          ...     ...             ...            ...   \n",
       "602               Data Engineer  154000             USD         154000   \n",
       "603               Data Engineer  126000             USD         126000   \n",
       "604                Data Analyst  129000             USD         129000   \n",
       "605                Data Analyst  150000             USD         150000   \n",
       "606                AI Scientist  200000             USD         200000   \n",
       "\n",
       "    employee_residence  remote_ratio company_location company_size  \n",
       "0                   DE             0               DE            L  \n",
       "1                   JP             0               JP            S  \n",
       "2                   GB            50               GB            M  \n",
       "3                   HN             0               HN            S  \n",
       "4                   US            50               US            L  \n",
       "..                 ...           ...              ...          ...  \n",
       "602                 US           100               US            M  \n",
       "603                 US           100               US            M  \n",
       "604                 US             0               US            M  \n",
       "605                 US           100               US            M  \n",
       "606                 IN           100               US            L  \n",
       "\n",
       "[607 rows x 12 columns]>"
      ]
     },
     "execution_count": 19,
     "metadata": {},
     "output_type": "execute_result"
    }
   ],
   "source": [
    "data.info"
   ]
  },
  {
   "cell_type": "code",
   "execution_count": 31,
   "id": "e6e30117-1db9-40ad-b0ff-c8bca6886b8b",
   "metadata": {},
   "outputs": [],
   "source": [
    "import numpy as np\n",
    "import pandas as pd\n",
    "import plotly.express as px\n",
    "import matplotlib.pyplot as plt\n"
   ]
  },
  {
   "cell_type": "code",
   "execution_count": 32,
   "id": "4f785d6b-31e6-4b12-a8c8-3bf24fa1cbd2",
   "metadata": {},
   "outputs": [],
   "source": [
    "import matplotlib.pyplot as plt\n",
    "import numpy as np"
   ]
  },
  {
   "cell_type": "code",
   "execution_count": null,
   "id": "314852c6-1fc6-48cc-b573-ca52321c8884",
   "metadata": {},
   "outputs": [],
   "source": [
    "plt.figure(figsize=(8, 6))\n",
    "plt.boxplot(salary)\n",
    "plt.title('Boxplot of Salaries')\n",
    "plt.ylabel('Salary')\n",
    "plt.grid(True)\n",
    "plt.show()"
   ]
  },
  {
   "cell_type": "code",
   "execution_count": 30,
   "id": "5cb3b8d5-c3ff-4ac9-98aa-ab7b4d560494",
   "metadata": {},
   "outputs": [
    {
     "name": "stdout",
     "output_type": "stream",
     "text": [
      "Collecting matplotlib\n",
      "  Downloading matplotlib-3.8.3-cp311-cp311-win_amd64.whl.metadata (5.9 kB)\n",
      "Collecting contourpy>=1.0.1 (from matplotlib)\n",
      "  Downloading contourpy-1.2.0-cp311-cp311-win_amd64.whl.metadata (5.8 kB)\n",
      "Collecting cycler>=0.10 (from matplotlib)\n",
      "  Downloading cycler-0.12.1-py3-none-any.whl.metadata (3.8 kB)\n",
      "Collecting fonttools>=4.22.0 (from matplotlib)\n",
      "  Downloading fonttools-4.50.0-cp311-cp311-win_amd64.whl.metadata (162 kB)\n",
      "     ---------------------------------------- 0.0/162.6 kB ? eta -:--:--\n",
      "     -------------- ------------------------ 61.4/162.6 kB 1.6 MB/s eta 0:00:01\n",
      "     -------------- ------------------------ 61.4/162.6 kB 1.6 MB/s eta 0:00:01\n",
      "     -------------------------------------- 162.6/162.6 kB 1.4 MB/s eta 0:00:00\n",
      "Collecting kiwisolver>=1.3.1 (from matplotlib)\n",
      "  Downloading kiwisolver-1.4.5-cp311-cp311-win_amd64.whl.metadata (6.5 kB)\n",
      "Requirement already satisfied: numpy<2,>=1.21 in c:\\users\\punit\\appdata\\local\\programs\\python\\python311\\lib\\site-packages (from matplotlib) (1.26.4)\n",
      "Requirement already satisfied: packaging>=20.0 in c:\\users\\punit\\appdata\\local\\programs\\python\\python311\\lib\\site-packages (from matplotlib) (23.2)\n",
      "Collecting pillow>=8 (from matplotlib)\n",
      "  Downloading pillow-10.2.0-cp311-cp311-win_amd64.whl.metadata (9.9 kB)\n",
      "Collecting pyparsing>=2.3.1 (from matplotlib)\n",
      "  Downloading pyparsing-3.1.2-py3-none-any.whl.metadata (5.1 kB)\n",
      "Requirement already satisfied: python-dateutil>=2.7 in c:\\users\\punit\\appdata\\local\\programs\\python\\python311\\lib\\site-packages (from matplotlib) (2.8.2)\n",
      "Requirement already satisfied: six>=1.5 in c:\\users\\punit\\appdata\\local\\programs\\python\\python311\\lib\\site-packages (from python-dateutil>=2.7->matplotlib) (1.16.0)\n",
      "Downloading matplotlib-3.8.3-cp311-cp311-win_amd64.whl (7.6 MB)\n",
      "   ---------------------------------------- 0.0/7.6 MB ? eta -:--:--\n",
      "    --------------------------------------- 0.1/7.6 MB 4.3 MB/s eta 0:00:02\n",
      "    --------------------------------------- 0.1/7.6 MB 4.3 MB/s eta 0:00:02\n",
      "   - -------------------------------------- 0.3/7.6 MB 2.4 MB/s eta 0:00:04\n",
      "   - -------------------------------------- 0.3/7.6 MB 2.3 MB/s eta 0:00:04\n",
      "   -- ------------------------------------- 0.5/7.6 MB 2.0 MB/s eta 0:00:04\n",
      "   -- ------------------------------------- 0.5/7.6 MB 2.1 MB/s eta 0:00:04\n",
      "   --- ------------------------------------ 0.6/7.6 MB 2.0 MB/s eta 0:00:04\n",
      "   --- ------------------------------------ 0.7/7.6 MB 2.1 MB/s eta 0:00:04\n",
      "   ---- ----------------------------------- 0.8/7.6 MB 2.1 MB/s eta 0:00:04\n",
      "   ----- ---------------------------------- 1.0/7.6 MB 2.1 MB/s eta 0:00:04\n",
      "   ----- ---------------------------------- 1.1/7.6 MB 2.1 MB/s eta 0:00:04\n",
      "   ------ --------------------------------- 1.2/7.6 MB 2.2 MB/s eta 0:00:04\n",
      "   ------ --------------------------------- 1.3/7.6 MB 2.1 MB/s eta 0:00:04\n",
      "   ------- -------------------------------- 1.4/7.6 MB 2.1 MB/s eta 0:00:04\n",
      "   ------- -------------------------------- 1.4/7.6 MB 2.2 MB/s eta 0:00:03\n",
      "   -------- ------------------------------- 1.5/7.6 MB 2.2 MB/s eta 0:00:03\n",
      "   -------- ------------------------------- 1.7/7.6 MB 2.2 MB/s eta 0:00:03\n",
      "   --------- ------------------------------ 1.8/7.6 MB 2.2 MB/s eta 0:00:03\n",
      "   ---------- ----------------------------- 1.9/7.6 MB 2.2 MB/s eta 0:00:03\n",
      "   ---------- ----------------------------- 2.0/7.6 MB 2.3 MB/s eta 0:00:03\n",
      "   ----------- ---------------------------- 2.1/7.6 MB 2.2 MB/s eta 0:00:03\n",
      "   ----------- ---------------------------- 2.2/7.6 MB 2.3 MB/s eta 0:00:03\n",
      "   ------------ --------------------------- 2.4/7.6 MB 2.3 MB/s eta 0:00:03\n",
      "   ------------- -------------------------- 2.5/7.6 MB 2.3 MB/s eta 0:00:03\n",
      "   ------------- -------------------------- 2.6/7.6 MB 2.3 MB/s eta 0:00:03\n",
      "   -------------- ------------------------- 2.7/7.6 MB 2.3 MB/s eta 0:00:03\n",
      "   -------------- ------------------------- 2.8/7.6 MB 2.4 MB/s eta 0:00:03\n",
      "   --------------- ------------------------ 2.9/7.6 MB 2.3 MB/s eta 0:00:03\n",
      "   ---------------- ----------------------- 3.1/7.6 MB 2.4 MB/s eta 0:00:02\n",
      "   ---------------- ----------------------- 3.2/7.6 MB 2.4 MB/s eta 0:00:02\n",
      "   ----------------- ---------------------- 3.3/7.6 MB 2.4 MB/s eta 0:00:02\n",
      "   ----------------- ---------------------- 3.3/7.6 MB 2.4 MB/s eta 0:00:02\n",
      "   ----------------- ---------------------- 3.3/7.6 MB 2.4 MB/s eta 0:00:02\n",
      "   ----------------- ---------------------- 3.3/7.6 MB 2.4 MB/s eta 0:00:02\n",
      "   ----------------- ---------------------- 3.4/7.6 MB 2.2 MB/s eta 0:00:02\n",
      "   ----------------- ---------------------- 3.4/7.6 MB 2.1 MB/s eta 0:00:02\n",
      "   ------------------ --------------------- 3.5/7.6 MB 2.1 MB/s eta 0:00:02\n",
      "   ------------------ --------------------- 3.5/7.6 MB 2.1 MB/s eta 0:00:02\n",
      "   ------------------ --------------------- 3.6/7.6 MB 2.1 MB/s eta 0:00:02\n",
      "   ------------------- -------------------- 3.7/7.6 MB 2.1 MB/s eta 0:00:02\n",
      "   ------------------- -------------------- 3.7/7.6 MB 2.0 MB/s eta 0:00:02\n",
      "   -------------------- ------------------- 3.8/7.6 MB 2.0 MB/s eta 0:00:02\n",
      "   -------------------- ------------------- 3.9/7.6 MB 2.0 MB/s eta 0:00:02\n",
      "   -------------------- ------------------- 4.0/7.6 MB 2.0 MB/s eta 0:00:02\n",
      "   -------------------- ------------------- 4.0/7.6 MB 2.0 MB/s eta 0:00:02\n",
      "   --------------------- ------------------ 4.1/7.6 MB 2.0 MB/s eta 0:00:02\n",
      "   --------------------- ------------------ 4.2/7.6 MB 2.0 MB/s eta 0:00:02\n",
      "   ---------------------- ----------------- 4.2/7.6 MB 2.0 MB/s eta 0:00:02\n",
      "   ---------------------- ----------------- 4.3/7.6 MB 2.0 MB/s eta 0:00:02\n",
      "   ---------------------- ----------------- 4.3/7.6 MB 2.0 MB/s eta 0:00:02\n",
      "   ----------------------- ---------------- 4.5/7.6 MB 2.0 MB/s eta 0:00:02\n",
      "   ----------------------- ---------------- 4.5/7.6 MB 2.0 MB/s eta 0:00:02\n",
      "   ------------------------ --------------- 4.6/7.6 MB 1.9 MB/s eta 0:00:02\n",
      "   ------------------------ --------------- 4.7/7.6 MB 2.0 MB/s eta 0:00:02\n",
      "   ------------------------ --------------- 4.8/7.6 MB 1.9 MB/s eta 0:00:02\n",
      "   ------------------------- -------------- 4.8/7.6 MB 1.9 MB/s eta 0:00:02\n",
      "   ------------------------- -------------- 4.9/7.6 MB 1.9 MB/s eta 0:00:02\n",
      "   -------------------------- ------------- 5.0/7.6 MB 1.9 MB/s eta 0:00:02\n",
      "   -------------------------- ------------- 5.0/7.6 MB 1.9 MB/s eta 0:00:02\n",
      "   -------------------------- ------------- 5.1/7.6 MB 1.9 MB/s eta 0:00:02\n",
      "   -------------------------- ------------- 5.1/7.6 MB 1.9 MB/s eta 0:00:02\n",
      "   --------------------------- ------------ 5.2/7.6 MB 1.9 MB/s eta 0:00:02\n",
      "   --------------------------- ------------ 5.2/7.6 MB 1.9 MB/s eta 0:00:02\n",
      "   --------------------------- ------------ 5.3/7.6 MB 1.8 MB/s eta 0:00:02\n",
      "   --------------------------- ------------ 5.3/7.6 MB 1.8 MB/s eta 0:00:02\n",
      "   ---------------------------- ----------- 5.4/7.6 MB 1.8 MB/s eta 0:00:02\n",
      "   ---------------------------- ----------- 5.5/7.6 MB 1.8 MB/s eta 0:00:02\n",
      "   ---------------------------- ----------- 5.5/7.6 MB 1.8 MB/s eta 0:00:02\n",
      "   ----------------------------- ---------- 5.6/7.6 MB 1.8 MB/s eta 0:00:02\n",
      "   ----------------------------- ---------- 5.6/7.6 MB 1.8 MB/s eta 0:00:02\n",
      "   ----------------------------- ---------- 5.7/7.6 MB 1.8 MB/s eta 0:00:02\n",
      "   ------------------------------ --------- 5.7/7.6 MB 1.8 MB/s eta 0:00:02\n",
      "   ------------------------------ --------- 5.8/7.6 MB 1.8 MB/s eta 0:00:02\n",
      "   ------------------------------ --------- 5.8/7.6 MB 1.8 MB/s eta 0:00:02\n",
      "   ------------------------------ --------- 5.9/7.6 MB 1.8 MB/s eta 0:00:01\n",
      "   ------------------------------- -------- 6.0/7.6 MB 1.8 MB/s eta 0:00:01\n",
      "   ------------------------------- -------- 6.0/7.6 MB 1.8 MB/s eta 0:00:01\n",
      "   ------------------------------- -------- 6.0/7.6 MB 1.8 MB/s eta 0:00:01\n",
      "   ------------------------------- -------- 6.1/7.6 MB 1.7 MB/s eta 0:00:01\n",
      "   -------------------------------- ------- 6.2/7.6 MB 1.7 MB/s eta 0:00:01\n",
      "   -------------------------------- ------- 6.2/7.6 MB 1.7 MB/s eta 0:00:01\n",
      "   -------------------------------- ------- 6.3/7.6 MB 1.7 MB/s eta 0:00:01\n",
      "   --------------------------------- ------ 6.3/7.6 MB 1.7 MB/s eta 0:00:01\n",
      "   --------------------------------- ------ 6.4/7.6 MB 1.7 MB/s eta 0:00:01\n",
      "   --------------------------------- ------ 6.5/7.6 MB 1.7 MB/s eta 0:00:01\n",
      "   ---------------------------------- ----- 6.5/7.6 MB 1.7 MB/s eta 0:00:01\n",
      "   ---------------------------------- ----- 6.6/7.6 MB 1.7 MB/s eta 0:00:01\n",
      "   ---------------------------------- ----- 6.7/7.6 MB 1.7 MB/s eta 0:00:01\n",
      "   ----------------------------------- ---- 6.7/7.6 MB 1.7 MB/s eta 0:00:01\n",
      "   ----------------------------------- ---- 6.8/7.6 MB 1.7 MB/s eta 0:00:01\n",
      "   ----------------------------------- ---- 6.9/7.6 MB 1.7 MB/s eta 0:00:01\n",
      "   ------------------------------------ --- 7.0/7.6 MB 1.7 MB/s eta 0:00:01\n",
      "   ------------------------------------ --- 7.0/7.6 MB 1.7 MB/s eta 0:00:01\n",
      "   ------------------------------------- -- 7.1/7.6 MB 1.7 MB/s eta 0:00:01\n",
      "   ------------------------------------- -- 7.2/7.6 MB 1.7 MB/s eta 0:00:01\n",
      "   ------------------------------------- -- 7.3/7.6 MB 1.7 MB/s eta 0:00:01\n",
      "   -------------------------------------- - 7.3/7.6 MB 1.7 MB/s eta 0:00:01\n",
      "   -------------------------------------- - 7.4/7.6 MB 1.7 MB/s eta 0:00:01\n",
      "   -------------------------------------- - 7.4/7.6 MB 1.7 MB/s eta 0:00:01\n",
      "   ---------------------------------------  7.5/7.6 MB 1.7 MB/s eta 0:00:01\n",
      "   ---------------------------------------  7.6/7.6 MB 1.7 MB/s eta 0:00:01\n",
      "   ---------------------------------------  7.6/7.6 MB 1.7 MB/s eta 0:00:01\n",
      "   ---------------------------------------- 7.6/7.6 MB 1.7 MB/s eta 0:00:00\n",
      "Downloading contourpy-1.2.0-cp311-cp311-win_amd64.whl (187 kB)\n",
      "   ---------------------------------------- 0.0/187.6 kB ? eta -:--:--\n",
      "   -- ------------------------------------- 10.2/187.6 kB ? eta -:--:--\n",
      "   -------------------------- ------------- 122.9/187.6 kB 1.4 MB/s eta 0:00:01\n",
      "   ---------------------------------------- 187.6/187.6 kB 1.6 MB/s eta 0:00:00\n",
      "Downloading cycler-0.12.1-py3-none-any.whl (8.3 kB)\n",
      "Downloading fonttools-4.50.0-cp311-cp311-win_amd64.whl (2.2 MB)\n",
      "   ---------------------------------------- 0.0/2.2 MB ? eta -:--:--\n",
      "    --------------------------------------- 0.0/2.2 MB ? eta -:--:--\n",
      "   -- ------------------------------------- 0.1/2.2 MB 2.2 MB/s eta 0:00:01\n",
      "   -- ------------------------------------- 0.2/2.2 MB 2.4 MB/s eta 0:00:01\n",
      "   ---- ----------------------------------- 0.3/2.2 MB 1.7 MB/s eta 0:00:02\n",
      "   ------ --------------------------------- 0.3/2.2 MB 1.9 MB/s eta 0:00:01\n",
      "   ------- -------------------------------- 0.4/2.2 MB 1.7 MB/s eta 0:00:02\n",
      "   --------- ------------------------------ 0.5/2.2 MB 1.9 MB/s eta 0:00:01\n",
      "   ---------- ----------------------------- 0.6/2.2 MB 1.8 MB/s eta 0:00:01\n",
      "   ------------ --------------------------- 0.7/2.2 MB 1.8 MB/s eta 0:00:01\n",
      "   ------------- -------------------------- 0.8/2.2 MB 1.8 MB/s eta 0:00:01\n",
      "   --------------- ------------------------ 0.8/2.2 MB 1.8 MB/s eta 0:00:01\n",
      "   --------------- ------------------------ 0.9/2.2 MB 1.8 MB/s eta 0:00:01\n",
      "   ------------------ --------------------- 1.0/2.2 MB 1.8 MB/s eta 0:00:01\n",
      "   ------------------- -------------------- 1.1/2.2 MB 1.8 MB/s eta 0:00:01\n",
      "   -------------------- ------------------- 1.1/2.2 MB 1.8 MB/s eta 0:00:01\n",
      "   ---------------------- ----------------- 1.2/2.2 MB 1.8 MB/s eta 0:00:01\n",
      "   ------------------------ --------------- 1.3/2.2 MB 1.7 MB/s eta 0:00:01\n",
      "   -------------------------- ------------- 1.4/2.2 MB 1.8 MB/s eta 0:00:01\n",
      "   --------------------------- ------------ 1.5/2.2 MB 1.8 MB/s eta 0:00:01\n",
      "   ----------------------------- ---------- 1.6/2.2 MB 1.8 MB/s eta 0:00:01\n",
      "   ----------------------------- ---------- 1.6/2.2 MB 1.8 MB/s eta 0:00:01\n",
      "   -------------------------------- ------- 1.8/2.2 MB 1.8 MB/s eta 0:00:01\n",
      "   --------------------------------- ------ 1.9/2.2 MB 1.8 MB/s eta 0:00:01\n",
      "   ---------------------------------- ----- 1.9/2.2 MB 1.8 MB/s eta 0:00:01\n",
      "   ----------------------------------- ---- 1.9/2.2 MB 1.8 MB/s eta 0:00:01\n",
      "   ------------------------------------ --- 2.0/2.2 MB 1.7 MB/s eta 0:00:01\n",
      "   -------------------------------------- - 2.1/2.2 MB 1.7 MB/s eta 0:00:01\n",
      "   ---------------------------------------  2.2/2.2 MB 1.7 MB/s eta 0:00:01\n",
      "   ---------------------------------------- 2.2/2.2 MB 1.7 MB/s eta 0:00:00\n",
      "Downloading kiwisolver-1.4.5-cp311-cp311-win_amd64.whl (56 kB)\n",
      "   ---------------------------------------- 0.0/56.1 kB ? eta -:--:--\n",
      "   ---------------------------------------- 56.1/56.1 kB ? eta 0:00:00\n",
      "Downloading pillow-10.2.0-cp311-cp311-win_amd64.whl (2.6 MB)\n",
      "   ---------------------------------------- 0.0/2.6 MB ? eta -:--:--\n",
      "    --------------------------------------- 0.1/2.6 MB 3.2 MB/s eta 0:00:01\n",
      "   - -------------------------------------- 0.1/2.6 MB 1.8 MB/s eta 0:00:02\n",
      "   --- ------------------------------------ 0.2/2.6 MB 1.6 MB/s eta 0:00:02\n",
      "   ---- ----------------------------------- 0.3/2.6 MB 1.6 MB/s eta 0:00:02\n",
      "   ----- ---------------------------------- 0.4/2.6 MB 1.6 MB/s eta 0:00:02\n",
      "   ----- ---------------------------------- 0.4/2.6 MB 1.6 MB/s eta 0:00:02\n",
      "   ------- -------------------------------- 0.5/2.6 MB 1.6 MB/s eta 0:00:02\n",
      "   ------- -------------------------------- 0.5/2.6 MB 1.6 MB/s eta 0:00:02\n",
      "   --------- ------------------------------ 0.6/2.6 MB 1.5 MB/s eta 0:00:02\n",
      "   --------- ------------------------------ 0.6/2.6 MB 1.4 MB/s eta 0:00:02\n",
      "   ---------- ----------------------------- 0.7/2.6 MB 1.4 MB/s eta 0:00:02\n",
      "   ----------- ---------------------------- 0.8/2.6 MB 1.4 MB/s eta 0:00:02\n",
      "   ------------ --------------------------- 0.8/2.6 MB 1.4 MB/s eta 0:00:02\n",
      "   ------------- -------------------------- 0.9/2.6 MB 1.4 MB/s eta 0:00:02\n",
      "   -------------- ------------------------- 0.9/2.6 MB 1.4 MB/s eta 0:00:02\n",
      "   --------------- ------------------------ 1.0/2.6 MB 1.4 MB/s eta 0:00:02\n",
      "   ---------------- ----------------------- 1.1/2.6 MB 1.4 MB/s eta 0:00:02\n",
      "   ----------------- ---------------------- 1.1/2.6 MB 1.4 MB/s eta 0:00:02\n",
      "   ------------------ --------------------- 1.2/2.6 MB 1.3 MB/s eta 0:00:02\n",
      "   ------------------ --------------------- 1.2/2.6 MB 1.3 MB/s eta 0:00:02\n",
      "   ------------------- -------------------- 1.3/2.6 MB 1.4 MB/s eta 0:00:01\n",
      "   -------------------- ------------------- 1.4/2.6 MB 1.3 MB/s eta 0:00:01\n",
      "   --------------------- ------------------ 1.4/2.6 MB 1.3 MB/s eta 0:00:01\n",
      "   ---------------------- ----------------- 1.5/2.6 MB 1.3 MB/s eta 0:00:01\n",
      "   ----------------------- ---------------- 1.6/2.6 MB 1.3 MB/s eta 0:00:01\n",
      "   ------------------------ --------------- 1.6/2.6 MB 1.4 MB/s eta 0:00:01\n",
      "   -------------------------- ------------- 1.7/2.6 MB 1.4 MB/s eta 0:00:01\n",
      "   -------------------------- ------------- 1.7/2.6 MB 1.4 MB/s eta 0:00:01\n",
      "   --------------------------- ------------ 1.8/2.6 MB 1.4 MB/s eta 0:00:01\n",
      "   ---------------------------- ----------- 1.9/2.6 MB 1.4 MB/s eta 0:00:01\n",
      "   ----------------------------- ---------- 1.9/2.6 MB 1.4 MB/s eta 0:00:01\n",
      "   ------------------------------ --------- 2.0/2.6 MB 1.4 MB/s eta 0:00:01\n",
      "   ------------------------------- -------- 2.1/2.6 MB 1.4 MB/s eta 0:00:01\n",
      "   --------------------------------- ------ 2.2/2.6 MB 1.4 MB/s eta 0:00:01\n",
      "   --------------------------------- ------ 2.2/2.6 MB 1.4 MB/s eta 0:00:01\n",
      "   ----------------------------------- ---- 2.3/2.6 MB 1.4 MB/s eta 0:00:01\n",
      "   ------------------------------------ --- 2.4/2.6 MB 1.4 MB/s eta 0:00:01\n",
      "   ------------------------------------- -- 2.4/2.6 MB 1.4 MB/s eta 0:00:01\n",
      "   -------------------------------------- - 2.5/2.6 MB 1.4 MB/s eta 0:00:01\n",
      "   -------------------------------------- - 2.5/2.6 MB 1.4 MB/s eta 0:00:01\n",
      "   ---------------------------------------  2.6/2.6 MB 1.4 MB/s eta 0:00:01\n",
      "   ---------------------------------------- 2.6/2.6 MB 1.4 MB/s eta 0:00:00\n",
      "Downloading pyparsing-3.1.2-py3-none-any.whl (103 kB)\n",
      "   ---------------------------------------- 0.0/103.2 kB ? eta -:--:--\n",
      "   ---------------------------------------- 103.2/103.2 kB 2.0 MB/s eta 0:00:00\n",
      "Installing collected packages: pyparsing, pillow, kiwisolver, fonttools, cycler, contourpy, matplotlib\n",
      "Successfully installed contourpy-1.2.0 cycler-0.12.1 fonttools-4.50.0 kiwisolver-1.4.5 matplotlib-3.8.3 pillow-10.2.0 pyparsing-3.1.2\n",
      "Note: you may need to restart the kernel to use updated packages.\n"
     ]
    }
   ],
   "source": [
    "pip install matplotlib\n"
   ]
  },
  {
   "cell_type": "code",
   "execution_count": 35,
   "id": "f274ef98-16d5-4b71-8592-e39d6080c1e9",
   "metadata": {},
   "outputs": [
    {
     "data": {
      "image/png": "[encoded data removed]",
      "text/plain": [
       "<Figure size 1000x600 with 1 Axes>"
      ]
     },
     "metadata": {},
     "output_type": "display_data"
    }
   ],
   "source": [
    "plt.figure(figsize=(10, 6))\n",
    "plt.hist(data['salary_in_usd'], bins=20, color='skyblue', edgecolor='black')\n",
    "plt.title('Distribution of Salaries')\n",
    "plt.xlabel('Salary (USD)')\n",
    "plt.ylabel('Frequency')\n",
    "plt.grid(True)\n",
    "plt.show()"
   ]
  },
  {
   "cell_type": "code",
   "execution_count": 36,
   "id": "a2943b3f-59b6-4b5a-992d-227264d36ab7",
   "metadata": {},
   "outputs": [
    {
     "data": {
      "image/png": "[encoded data removed]",
      "text/plain": [
       "<Figure size 1000x600 with 1 Axes>"
      ]
     },
     "metadata": {},
     "output_type": "display_data"
    }
   ],
   "source": [
    "plt.figure(figsize=(10, 6))\n",
    "plt.scatter(data['work_year'], data['salary_in_usd'], color='green', alpha=0.5)\n",
    "plt.title('Salary vs. Work Years')\n",
    "plt.xlabel('Work Years')\n",
    "plt.ylabel('Salary (USD)')\n",
    "plt.grid(True)\n",
    "plt.show()"
   ]
  },
  {
   "cell_type": "code",
   "execution_count": 37,
   "id": "d125c131-9a00-41af-abca-5384017c1ed0",
   "metadata": {},
   "outputs": [
    {
     "data": {
      "image/png": "[encoded data removed]",
      "text/plain": [
       "<Figure size 1000x600 with 1 Axes>"
      ]
     },
     "metadata": {},
     "output_type": "display_data"
    }
   ],
   "source": [
    "plt.figure(figsize=(10, 6))\n",
    "employment_type_counts = data['employment_type'].value_counts()\n",
    "employment_type_counts.plot(kind='bar', color='salmon')\n",
    "plt.title('Count of Employees by Employment Type')\n",
    "plt.xlabel('Employment Type')\n",
    "plt.ylabel('Count')\n",
    "plt.xticks(rotation=45)\n",
    "plt.grid(axis='y')\n",
    "plt.show()"
   ]
  },
  {
   "cell_type": "code",
   "execution_count": 51,
   "id": "b633502a-58b4-404e-a15a-4b3613e5b3a9",
   "metadata": {},
   "outputs": [
    {
     "data": {
      "text/plain": [
       "experience_level\n",
       "EX     11103875\n",
       "EN     23286776\n",
       "SE     59905819\n",
       "MI    102371568\n",
       "Name: salary, dtype: int64"
      ]
     },
     "execution_count": 51,
     "metadata": {},
     "output_type": "execute_result"
    }
   ],
   "source": [
    "\n",
    "data.groupby(\"experience_level\")[\"salary\"].sum().sort_values(ascending=True).head()\n",
    "\n"
   ]
  },
  {
   "cell_type": "code",
   "execution_count": 52,
   "id": "960565cd-76b0-4eda-bfa1-363c9318de5d",
   "metadata": {},
   "outputs": [
    {
     "data": {
      "text/plain": [
       "0       True\n",
       "1      False\n",
       "2       True\n",
       "3       True\n",
       "4      False\n",
       "       ...  \n",
       "602    False\n",
       "603    False\n",
       "604    False\n",
       "605    False\n",
       "606    False\n",
       "Name: salary, Length: 607, dtype: bool"
      ]
     },
     "execution_count": 52,
     "metadata": {},
     "output_type": "execute_result"
    }
   ],
   "source": [
    "data.salary<100000"
   ]
  },
  {
   "cell_type": "code",
   "execution_count": 58,
   "id": "e1f4de15-9f6f-4a52-ad0e-1bd65facc8a1",
   "metadata": {},
   "outputs": [
    {
     "data": {
      "image/png": "[encoded data removed]",
      "text/plain": [
       "<Figure size 640x480 with 1 Axes>"
      ]
     },
     "metadata": {},
     "output_type": "display_data"
    }
   ],
   "source": [
    "import matplotlib.pyplot as plt\n",
    "import pandas as pd\n",
    "\n",
    "work_years = data['work_year']\n",
    "salaries = data['salary_in_usd']\n",
    "\n",
    "\n",
    "plt.plot(work_years, salaries)\n",
    "plt.xlabel('work_year')\n",
    "plt.ylabel('salary_in_usd')\n",
    "plt.title('salary_in_usd Over work_year')\n",
    "plt.grid(True)\n",
    "plt.show()\n"
   ]
  },
  {
   "cell_type": "code",
   "execution_count": null,
   "id": "c9ace154-df56-455b-a257-e836514e7bff",
   "metadata": {},
   "outputs": [],
   "source": []
  }
 ],
 "metadata": {
  "kernelspec": {
   "display_name": "Python 3 (ipykernel)",
   "language": "python",
   "name": "python3"
  },
  "language_info": {
   "codemirror_mode": {
    "name": "ipython",
    "version": 3
   },
   "file_extension": ".py",
   "mimetype": "text/x-python",
   "name": "python",
   "nbconvert_exporter": "python",
   "pygments_lexer": "ipython3",
   "version": "3.11.4"
  }
 },
 "nbformat": 4,
 "nbformat_minor": 5
}
